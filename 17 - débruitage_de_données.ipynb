{
  "cells": [
    {
      "cell_type": "markdown",
      "metadata": {
        "id": "l9BoIL9veHGz"
      },
      "source": [
        "# Importation des packages"
      ]
    },
    {
      "cell_type": "code",
      "execution_count": 1,
      "metadata": {
        "id": "TfdzOsOUdKwA"
      },
      "outputs": [],
      "source": [
        "import librosa, librosa.display\n",
        "import matplotlib.pyplot as plt\n",
        "import torch as torch\n",
        "from torch.utils.data import Dataset\n",
        "import numpy as np\n",
        "import soundfile as sf\n",
        "from torchsummary import summary"
      ]
    },
    {
      "cell_type": "markdown",
      "metadata": {
        "id": "O7EA74Ibd9Ps"
      },
      "source": [
        "Ajoutez un raccourci de ce dossier à votre google drive :\n",
        "\n",
        "https://drive.google.com/drive/folders/1VJk20mb-W_3sYbz3u6qmiFPquP03Dizc?usp=sharing"
      ]
    },
    {
      "cell_type": "code",
      "execution_count": 2,
      "metadata": {
        "id": "V8B7G8nyd7wX",
        "colab": {
          "base_uri": "https://localhost:8080/"
        },
        "outputId": "795ddfb4-cd41-4a1f-925a-8e2e9709d8a2"
      },
      "outputs": [
        {
          "output_type": "stream",
          "name": "stdout",
          "text": [
            "Mounted at /content/drive\n"
          ]
        }
      ],
      "source": [
        "from google.colab import drive\n",
        "drive.mount('/content/drive', force_remount=True)"
      ]
    },
    {
      "cell_type": "markdown",
      "metadata": {
        "id": "y5j3LW145UWa"
      },
      "source": [
        "# Importation des données"
      ]
    },
    {
      "cell_type": "markdown",
      "source": [
        "Chemin du son sans le bruit."
      ],
      "metadata": {
        "id": "dgXyRQU7E-Yo"
      }
    },
    {
      "cell_type": "code",
      "execution_count": 3,
      "metadata": {
        "id": "RZdbrrYjd_BI"
      },
      "outputs": [],
      "source": [
        "path_without_noise = \"drive/MyDrive/denoising_sound/with_reverb/clean_fileid_44.wav\""
      ]
    },
    {
      "cell_type": "markdown",
      "source": [
        "Utilisez la fonction `load` de librosa pour importer le son sans bruit."
      ],
      "metadata": {
        "id": "YEm_cZC0Z2EG"
      }
    },
    {
      "cell_type": "code",
      "execution_count": 4,
      "metadata": {
        "id": "H1xjI6L-gMDZ"
      },
      "outputs": [],
      "source": [
        "signal, sr = librosa.load(path_without_noise)"
      ]
    },
    {
      "cell_type": "code",
      "source": [
        "sr"
      ],
      "metadata": {
        "colab": {
          "base_uri": "https://localhost:8080/"
        },
        "id": "gDcQosPRLvZu",
        "outputId": "ff726934-425f-4eb9-eb8b-b4f2bed953e9"
      },
      "execution_count": 5,
      "outputs": [
        {
          "output_type": "execute_result",
          "data": {
            "text/plain": [
              "22050"
            ]
          },
          "metadata": {},
          "execution_count": 5
        }
      ]
    },
    {
      "cell_type": "code",
      "execution_count": 6,
      "metadata": {
        "id": "9l3WGSSthD0r",
        "colab": {
          "base_uri": "https://localhost:8080/"
        },
        "outputId": "7a5bae7f-fc7b-4cc5-c1b6-5cd2ced3a778"
      },
      "outputs": [
        {
          "output_type": "execute_result",
          "data": {
            "text/plain": [
              "(220500,)"
            ]
          },
          "metadata": {},
          "execution_count": 6
        }
      ],
      "source": [
        "signal.shape"
      ]
    },
    {
      "cell_type": "markdown",
      "source": [
        "Chemin du son avec le bruit."
      ],
      "metadata": {
        "id": "x_Om_wSzFBdB"
      }
    },
    {
      "cell_type": "code",
      "execution_count": 7,
      "metadata": {
        "id": "rV0EHjbof9Qv"
      },
      "outputs": [],
      "source": [
        "path_with_noise = \"drive/MyDrive/denoising_sound/with_reverb_and_noise/clnsp17_birds_413745_3_snr2_tl-23_fileid_44.wav\""
      ]
    },
    {
      "cell_type": "markdown",
      "source": [
        "Utilisez la fonction `load` de librosa pour importer le son sans bruit."
      ],
      "metadata": {
        "id": "_WNVPImfabae"
      }
    },
    {
      "cell_type": "code",
      "execution_count": 8,
      "metadata": {
        "id": "2GuOg67yeh3o"
      },
      "outputs": [],
      "source": [
        "signal_noise, sr_noise = librosa.load(path_with_noise)"
      ]
    },
    {
      "cell_type": "code",
      "execution_count": 9,
      "metadata": {
        "id": "iG7te3e3hF3N",
        "colab": {
          "base_uri": "https://localhost:8080/"
        },
        "outputId": "d0ea247d-75c4-48ae-dfb7-dc5f8861c18e"
      },
      "outputs": [
        {
          "output_type": "execute_result",
          "data": {
            "text/plain": [
              "(220500,)"
            ]
          },
          "metadata": {},
          "execution_count": 9
        }
      ],
      "source": [
        "signal_noise.shape"
      ]
    },
    {
      "cell_type": "markdown",
      "metadata": {
        "id": "mlUP3wgz5UWc"
      },
      "source": [
        "Visualisation des données"
      ]
    },
    {
      "cell_type": "markdown",
      "source": [
        "Utilisez la fonction `waveshow` de librosa pour afficher les deux signales.\n",
        "\n",
        "Challenge : utilisez matplotlib pour afficher les graphiques cotes à cotes."
      ],
      "metadata": {
        "id": "Nvk7sIZwaeYx"
      }
    },
    {
      "cell_type": "code",
      "execution_count": 12,
      "metadata": {
        "id": "t9yTVtZ_gYuv",
        "colab": {
          "base_uri": "https://localhost:8080/",
          "height": 487
        },
        "outputId": "e48674dd-7c34-4f4e-9af3-9d761cdc1dcf"
      },
      "outputs": [
        {
          "output_type": "display_data",
          "data": {
            "text/plain": [
              "<Figure size 640x480 with 1 Axes>"
            ],
            "image/png": "[encoded data removed]"
          },
          "metadata": {}
        }
      ],
      "source": [
        "### Your code ###\n",
        "librosa.display.waveshow(signal)\n",
        "\n",
        "plt.tight_layout()\n",
        "plt.show()"
      ]
    },
    {
      "cell_type": "code",
      "source": [
        "### Your code ###\n",
        "librosa.display.waveshow(signal_noise)\n",
        "\n",
        "plt.tight_layout()\n",
        "plt.show()"
      ],
      "metadata": {
        "colab": {
          "base_uri": "https://localhost:8080/",
          "height": 486
        },
        "id": "PrG2Z9EhMViR",
        "outputId": "96991a3b-8ef7-4603-9042-2fb5f254a70c"
      },
      "execution_count": 13,
      "outputs": [
        {
          "output_type": "display_data",
          "data": {
            "text/plain": [
              "<Figure size 640x480 with 1 Axes>"
            ],
            "image/png": "[encoded data removed]"
          },
          "metadata": {}
        }
      ]
    },
    {
      "cell_type": "markdown",
      "source": [
        "# Créer le générateur"
      ],
      "metadata": {
        "id": "h1IycfE17zXr"
      }
    },
    {
      "cell_type": "markdown",
      "source": [
        "La classe permettant de créer notre dataset personnalisé."
      ],
      "metadata": {
        "id": "BBJj_TtDFXPQ"
      }
    },
    {
      "cell_type": "code",
      "source": [
        "class CustomImageDataset(Dataset):\n",
        "    def __init__(self, x_train, y_train):\n",
        "        self.img_input = x_train\n",
        "        self.img_output = y_train\n",
        "\n",
        "    def __len__(self):\n",
        "        return len(self.img_output)\n",
        "\n",
        "    def __getitem__(self, idx):\n",
        "        image = self.img_input[idx, :, :]\n",
        "        label = self.img_output[idx, :, :]\n",
        "\n",
        "        return image, label"
      ],
      "metadata": {
        "id": "J936_r0yFW9h"
      },
      "execution_count": 10,
      "outputs": []
    },
    {
      "cell_type": "markdown",
      "source": [
        "Nous allons prendre seulement les 40960 informations de la bande son."
      ],
      "metadata": {
        "id": "YBKh7aK7FeFA"
      }
    },
    {
      "cell_type": "code",
      "source": [
        "x_training = CustomImageDataset(torch.from_numpy(np.expand_dims(np.expand_dims(signal_noise[:40960], axis=0), axis=1)),\n",
        "                                 torch.from_numpy(np.expand_dims(np.expand_dims(signal[:40960], axis=0), axis=1)))"
      ],
      "metadata": {
        "id": "UPRVXVRw4OaU"
      },
      "execution_count": 11,
      "outputs": []
    },
    {
      "cell_type": "markdown",
      "source": [
        "Utilisez la fonction `DataLoader` pour créer le générateur."
      ],
      "metadata": {
        "id": "tBecjLQPFlJE"
      }
    },
    {
      "cell_type": "code",
      "source": [
        "dataloader_train = torch.utils.data.DataLoader(x_training,\n",
        "                                         batch_size=1,\n",
        "                                         shuffle=True)"
      ],
      "metadata": {
        "id": "79kXqTos4boX"
      },
      "execution_count": 12,
      "outputs": []
    },
    {
      "cell_type": "markdown",
      "source": [
        "Vérifiez que les dimensions correspodent bien avec ce qui est attendu."
      ],
      "metadata": {
        "id": "UYFGCiOyFrEO"
      }
    },
    {
      "cell_type": "code",
      "source": [
        "for x, y in dataloader_train:\n",
        "  print(x.shape)\n",
        "  print(y.shape)\n",
        "\n",
        "  break"
      ],
      "metadata": {
        "id": "SyP5j8Em5sfb",
        "colab": {
          "base_uri": "https://localhost:8080/"
        },
        "outputId": "84751202-f3b7-4b7c-d8bd-436ff4052aef"
      },
      "execution_count": 13,
      "outputs": [
        {
          "output_type": "stream",
          "name": "stdout",
          "text": [
            "torch.Size([1, 1, 40960])\n",
            "torch.Size([1, 1, 40960])\n"
          ]
        }
      ]
    },
    {
      "cell_type": "markdown",
      "metadata": {
        "id": "SaWTgHfd5UWd"
      },
      "source": [
        "# Obtenir un sur-entraînement"
      ]
    },
    {
      "cell_type": "markdown",
      "source": [
        "Vous allez entraîner des modèles pour obtenir un débruitage complet du son bruité."
      ],
      "metadata": {
        "id": "uLycLEQ3arFz"
      }
    },
    {
      "cell_type": "markdown",
      "source": [
        "# fonctions d'entraînement"
      ],
      "metadata": {
        "id": "r9xZwy9-4DKz"
      }
    },
    {
      "cell_type": "code",
      "source": [
        "def step(model:torch.nn.Sequential,\n",
        "         opt:torch.optim,\n",
        "         criterion:torch.nn.modules.loss,\n",
        "         x_train:torch.Tensor,\n",
        "         y_train:torch.Tensor)->tuple:\n",
        "  \"\"\"\n",
        "  Executes a single training step for a PyTorch model.\n",
        "  This function performs a forward pass to compute the model's predictions, calculates\n",
        "  the loss between predictions and actual target values, computes gradients for each\n",
        "  model parameter, and updates the parameters using the optimizer.\n",
        "\n",
        "  Args:\n",
        "      model (torch.nn.Sequential): The PyTorch model to train.\n",
        "      optimizer (torch.optim.Optimizer): Optimizer used to update the model's parameters.\n",
        "      criterion (torch.nn.modules.loss._Loss): Loss function used to compute the error.\n",
        "      x_train (torch.Tensor): Input training data (features).\n",
        "      y_train (torch.Tensor): Ground truth labels or target values for the training data.\n",
        "  Returns:\n",
        "      tuple: The updated model and the computed loss for the current step.\n",
        "  \"\"\"\n",
        "\n",
        "  # Réinitialisez les gradients d'optimizer à zéro avec la méthode 'zero_grad'\n",
        "  opt.zero_grad()\n",
        "\n",
        "  # Calculez les prédiction sur le jeu d'entraînement avec la méthode 'froward'\n",
        "  prediction = model.forward(x_train)\n",
        "\n",
        "  # Calculez l'erreur de prédiction avec 'criterion'\n",
        "  loss = criterion(prediction, y_train)\n",
        "\n",
        "  # Calculez les gradients avec la méthode 'backward'\n",
        "  loss.backward()\n",
        "\n",
        "  # Mettre à jour les paramètres du modèle avec la méthode 'step'\n",
        "  opt.step()\n",
        "\n",
        "  return model, loss"
      ],
      "metadata": {
        "id": "2GweSYLD4Fh1"
      },
      "execution_count": 14,
      "outputs": []
    },
    {
      "cell_type": "code",
      "source": [
        "def fit(model, optimizer, criterion, epoch, trainloader):\n",
        "    epoch = epoch\n",
        "    history_train_loss = []\n",
        "\n",
        "    for e in range(epoch) :\n",
        "\n",
        "      train_loss_batch = 0\n",
        "\n",
        "      for images, labels in trainloader:\n",
        "\n",
        "        # mise à jour des poids avec la fonction 'step'\n",
        "        model, train_loss = step(model, optimizer, criterion, images, labels)\n",
        "\n",
        "        train_loss_batch += train_loss.detach().numpy()\n",
        "\n",
        "      train_loss_batch /= len(trainloader.sampler)\n",
        "\n",
        "      # Sauvegarde des coûts d'entraînement avec append\n",
        "      history_train_loss = np.append(history_train_loss, train_loss_batch)\n",
        "\n",
        "      if e % 100==0:\n",
        "        print(f'epoch : {e}/{epoch}')\n",
        "        print('train_loss : '+str(np.squeeze(train_loss_batch)))\n",
        "        print('-------------------------------------------------------------------------------------------------')\n",
        "\n",
        "    return model, history_train_loss #, history_test_loss"
      ],
      "metadata": {
        "id": "zYXJWgzg4GI6"
      },
      "execution_count": 29,
      "outputs": []
    },
    {
      "cell_type": "markdown",
      "metadata": {
        "id": "ApvzENQW5UWd"
      },
      "source": [
        "## Première tentative"
      ]
    },
    {
      "cell_type": "markdown",
      "metadata": {
        "id": "r-yDpz4F5UWd"
      },
      "source": [
        "Initialisez un modèle qui vous serivra de baseline."
      ]
    },
    {
      "cell_type": "markdown",
      "source": [
        "Initialiser le modèle suivant:\n",
        "- Utilisez la fonction `conv_block` pour initialiser une couche de convolution en 1 dimension avec 16 filtres et activer par Relu.\n",
        "- Une couche de maxpooling avec une fenêtre de 2 et un stride de 2,\n",
        "- Utilisez la fonction `conv_block` pour initialiser une couche de convolution en 1 dimension avec 32 filtres et activer par Relu.\n",
        "- Une couche de `ConvTranspose` avec 16 filtres, une taille de filtres de 2 et un stride de 2,\n",
        "- Une dernière convolution avec un filtre.\n",
        "\n",
        "Pour ceux modèle vous allez intialisez tous vos composants dans la fonction `__init__` puis les utilisez dans le bonne ordre dans la fonction `forward`.\n",
        "\n",
        "Vous pouvez vous nspirez de la création du modèle via ce [lien](https://medium.com/analytics-vidhya/unet-implementation-in-pytorch-idiot-developer-da40d955f201)\n",
        "\n",
        "N'hésitez pas à demander de l'aide à ChatGPT qui permet d'aider à l'élaboration de ce type d'architecture."
      ],
      "metadata": {
        "id": "n12Oe56tbVAl"
      }
    },
    {
      "cell_type": "code",
      "source": [
        "from torch import nn\n",
        "from collections import OrderedDict"
      ],
      "metadata": {
        "id": "h-y2Ed8NM3_W"
      },
      "execution_count": 52,
      "outputs": []
    },
    {
      "cell_type": "code",
      "source": [
        "class UNet(nn.Module):\n",
        "    def __init__(self, in_channels=1, out_channels=1):\n",
        "        super(UNet, self).__init__()\n",
        "\n",
        "        # Encodeur (partie descendante)\n",
        "        self.encoder1 = self.conv_block(1, 16)\n",
        "\n",
        "        # Couche de réduction de dimension\n",
        "        self.pool = torch.nn.MaxPool1d(kernel_size=2, stride=2)\n",
        "\n",
        "        # Couche du bas (bottleneck)\n",
        "        self.bottleneck = self.conv_block(16,32)\n",
        "\n",
        "        # Décodeur (partie montante)\n",
        "        self.upconv2 = nn.ConvTranspose1d(in_channels=32, out_channels=16, kernel_size=2, stride=2)\n",
        "\n",
        "\n",
        "        self.final_layer = nn.Conv1d(32,1,3, padding=\"same\")\n",
        "\n",
        "\n",
        "    def conv_block(self, in_channels, out_channels):\n",
        "        return nn.Sequential(\n",
        "            nn.Conv1d(in_channels, out_channels, kernel_size=3, padding=\"same\"),\n",
        "            nn.ReLU(inplace=True),\n",
        "        )\n",
        "\n",
        "    def forward(self, x):\n",
        "        # Encodeur\n",
        "        enc1 = self.encoder1(x)\n",
        "        pool1 = self.pool(enc1)\n",
        "\n",
        "        # Bottleneck\n",
        "        bottleneck = self.bottleneck(pool1)\n",
        "\n",
        "        # Décodeur avec les skip connections\n",
        "        dec2 = self.upconv2(bottleneck)\n",
        "        cat2 = torch.cat([enc1, dec2], dim=1)\n",
        "\n",
        "        # Couche final\n",
        "        output = self.final_layer(cat2)\n",
        "\n",
        "        return output"
      ],
      "metadata": {
        "id": "o3EhRQJ10s3o"
      },
      "execution_count": 53,
      "outputs": []
    },
    {
      "cell_type": "markdown",
      "source": [
        "Utilisez la fonction `UNet` pour initialiser le modèle."
      ],
      "metadata": {
        "id": "wU7A_VAZIFnl"
      }
    },
    {
      "cell_type": "code",
      "source": [
        "model = UNet()"
      ],
      "metadata": {
        "id": "gRSkdxpZ3Uls"
      },
      "execution_count": 54,
      "outputs": []
    },
    {
      "cell_type": "markdown",
      "source": [
        "Utilisez la fonction `summary` pour visualisez votre modèle.\n",
        "\n",
        "A noter : Vous ne verrez pas apparaitre vos concatenations dans le summary c'est normal."
      ],
      "metadata": {
        "id": "b3sTcuvAHxU4"
      }
    },
    {
      "cell_type": "code",
      "source": [
        "summary(model,(1, 40960), device=\"cpu\")"
      ],
      "metadata": {
        "id": "eZ9Z5ZyjHxJc",
        "colab": {
          "base_uri": "https://localhost:8080/"
        },
        "outputId": "231097c6-2b18-480c-cd15-a2615cd353d1"
      },
      "execution_count": 55,
      "outputs": [
        {
          "output_type": "stream",
          "name": "stdout",
          "text": [
            "----------------------------------------------------------------\n",
            "        Layer (type)               Output Shape         Param #\n",
            "================================================================\n",
            "            Conv1d-1            [-1, 16, 40960]              64\n",
            "              ReLU-2            [-1, 16, 40960]               0\n",
            "         MaxPool1d-3            [-1, 16, 20480]               0\n",
            "            Conv1d-4            [-1, 32, 20480]           1,568\n",
            "              ReLU-5            [-1, 32, 20480]               0\n",
            "   ConvTranspose1d-6            [-1, 16, 40960]           1,040\n",
            "            Conv1d-7             [-1, 1, 40960]              97\n",
            "================================================================\n",
            "Total params: 2,769\n",
            "Trainable params: 2,769\n",
            "Non-trainable params: 0\n",
            "----------------------------------------------------------------\n",
            "Input size (MB): 0.16\n",
            "Forward/backward pass size (MB): 27.81\n",
            "Params size (MB): 0.01\n",
            "Estimated Total Size (MB): 27.98\n",
            "----------------------------------------------------------------\n"
          ]
        }
      ]
    },
    {
      "cell_type": "markdown",
      "source": [
        "Utilisez le modèle avec la méthode `forward`."
      ],
      "metadata": {
        "id": "W4cZNohmIK_m"
      }
    },
    {
      "cell_type": "code",
      "source": [
        "test = torch.randn(1, 1, 128)\n",
        "result = model.forward(test)\n",
        "result.shape"
      ],
      "metadata": {
        "id": "JQnLD7aN2bZJ",
        "colab": {
          "base_uri": "https://localhost:8080/"
        },
        "outputId": "8b3035d6-4500-47a9-c493-eab325eba09e"
      },
      "execution_count": 56,
      "outputs": [
        {
          "output_type": "execute_result",
          "data": {
            "text/plain": [
              "torch.Size([1, 1, 128])"
            ]
          },
          "metadata": {},
          "execution_count": 56
        }
      ]
    },
    {
      "cell_type": "markdown",
      "source": [
        "Initialisez `criterion` avec la fonction `L1Loss`.\n",
        "\n",
        "Initialisez `optimizer` avec `Adam` et un learning rate de 0.001."
      ],
      "metadata": {
        "id": "ErnhzBgQ4Jsy"
      }
    },
    {
      "cell_type": "code",
      "source": [
        "\n",
        "criterion = torch.nn.L1Loss()\n",
        "optimizer = torch.optim.Adam(model.parameters(), lr=0.001)"
      ],
      "metadata": {
        "id": "TKH7ks7x39I4"
      },
      "execution_count": 57,
      "outputs": []
    },
    {
      "cell_type": "code",
      "source": [
        "epoch = 3000"
      ],
      "metadata": {
        "id": "zEtSvS9S4vkb"
      },
      "execution_count": 58,
      "outputs": []
    },
    {
      "cell_type": "markdown",
      "source": [
        "Utilisez la fonction `fit` pour entraîner le modèle."
      ],
      "metadata": {
        "id": "0Fh2Xm8cIc5K"
      }
    },
    {
      "cell_type": "code",
      "source": [
        "\n",
        "model, history_train_loss = fit(model, optimizer, criterion, epoch, dataloader_train)"
      ],
      "metadata": {
        "colab": {
          "base_uri": "https://localhost:8080/"
        },
        "id": "erFJ5RFj5kx2",
        "outputId": "a341ac92-b39b-45a0-e82b-397c9776f888"
      },
      "execution_count": 59,
      "outputs": [
        {
          "output_type": "stream",
          "name": "stdout",
          "text": [
            "epoch : 0/3000\n",
            "train_loss : 0.09155670553445816\n",
            "-------------------------------------------------------------------------------------------------\n",
            "epoch : 100/3000\n",
            "train_loss : 0.008616762235760689\n",
            "-------------------------------------------------------------------------------------------------\n",
            "epoch : 200/3000\n",
            "train_loss : 0.007737538777291775\n",
            "-------------------------------------------------------------------------------------------------\n",
            "epoch : 300/3000\n",
            "train_loss : 0.007378862705081701\n",
            "-------------------------------------------------------------------------------------------------\n",
            "epoch : 400/3000\n",
            "train_loss : 0.007102370262145996\n",
            "-------------------------------------------------------------------------------------------------\n",
            "epoch : 500/3000\n",
            "train_loss : 0.006961037404835224\n",
            "-------------------------------------------------------------------------------------------------\n",
            "epoch : 600/3000\n",
            "train_loss : 0.006883768830448389\n",
            "-------------------------------------------------------------------------------------------------\n",
            "epoch : 700/3000\n",
            "train_loss : 0.006822947412729263\n",
            "-------------------------------------------------------------------------------------------------\n",
            "epoch : 800/3000\n",
            "train_loss : 0.006895062513649464\n",
            "-------------------------------------------------------------------------------------------------\n",
            "epoch : 900/3000\n",
            "train_loss : 0.006773404777050018\n",
            "-------------------------------------------------------------------------------------------------\n",
            "epoch : 1000/3000\n",
            "train_loss : 0.006800132803618908\n",
            "-------------------------------------------------------------------------------------------------\n",
            "epoch : 1100/3000\n",
            "train_loss : 0.006789321545511484\n",
            "-------------------------------------------------------------------------------------------------\n",
            "epoch : 1200/3000\n",
            "train_loss : 0.006776731461286545\n",
            "-------------------------------------------------------------------------------------------------\n",
            "epoch : 1300/3000\n",
            "train_loss : 0.006768462248146534\n",
            "-------------------------------------------------------------------------------------------------\n",
            "epoch : 1400/3000\n",
            "train_loss : 0.006758505012840033\n",
            "-------------------------------------------------------------------------------------------------\n",
            "epoch : 1500/3000\n",
            "train_loss : 0.006751572247594595\n",
            "-------------------------------------------------------------------------------------------------\n",
            "epoch : 1600/3000\n",
            "train_loss : 0.006775555666536093\n",
            "-------------------------------------------------------------------------------------------------\n",
            "epoch : 1700/3000\n",
            "train_loss : 0.006750871427357197\n",
            "-------------------------------------------------------------------------------------------------\n",
            "epoch : 1800/3000\n",
            "train_loss : 0.006751804146915674\n",
            "-------------------------------------------------------------------------------------------------\n",
            "epoch : 1900/3000\n",
            "train_loss : 0.006720266304910183\n",
            "-------------------------------------------------------------------------------------------------\n",
            "epoch : 2000/3000\n",
            "train_loss : 0.006705033127218485\n",
            "-------------------------------------------------------------------------------------------------\n",
            "epoch : 2100/3000\n",
            "train_loss : 0.006746022962033749\n",
            "-------------------------------------------------------------------------------------------------\n",
            "epoch : 2200/3000\n",
            "train_loss : 0.006771063897758722\n",
            "-------------------------------------------------------------------------------------------------\n",
            "epoch : 2300/3000\n",
            "train_loss : 0.006747971288859844\n",
            "-------------------------------------------------------------------------------------------------\n",
            "epoch : 2400/3000\n",
            "train_loss : 0.006779136601835489\n",
            "-------------------------------------------------------------------------------------------------\n",
            "epoch : 2500/3000\n",
            "train_loss : 0.006718221120536327\n",
            "-------------------------------------------------------------------------------------------------\n",
            "epoch : 2600/3000\n",
            "train_loss : 0.006733146496117115\n",
            "-------------------------------------------------------------------------------------------------\n",
            "epoch : 2700/3000\n",
            "train_loss : 0.006699694786220789\n",
            "-------------------------------------------------------------------------------------------------\n",
            "epoch : 2800/3000\n",
            "train_loss : 0.0067137242294847965\n",
            "-------------------------------------------------------------------------------------------------\n",
            "epoch : 2900/3000\n",
            "train_loss : 0.006761292461305857\n",
            "-------------------------------------------------------------------------------------------------\n"
          ]
        }
      ]
    },
    {
      "cell_type": "code",
      "source": [
        "model, history_train_loss = fit(model, optimizer, criterion, epoch, dataloader_train)"
      ],
      "metadata": {
        "colab": {
          "base_uri": "https://localhost:8080/"
        },
        "id": "HCuHi6204bSJ",
        "outputId": "a3496160-5237-4ea4-ca7b-e2120270b613"
      },
      "execution_count": 47,
      "outputs": [
        {
          "output_type": "stream",
          "name": "stdout",
          "text": [
            "epoch : 0/3000\n",
            "train_loss : 0.008158154785633087\n",
            "-------------------------------------------------------------------------------------------------\n",
            "epoch : 100/3000\n",
            "train_loss : 0.008113337680697441\n",
            "-------------------------------------------------------------------------------------------------\n",
            "epoch : 200/3000\n",
            "train_loss : 0.008095180615782738\n",
            "-------------------------------------------------------------------------------------------------\n",
            "epoch : 300/3000\n",
            "train_loss : 0.00808666180819273\n",
            "-------------------------------------------------------------------------------------------------\n",
            "epoch : 400/3000\n",
            "train_loss : 0.00807564239948988\n",
            "-------------------------------------------------------------------------------------------------\n",
            "epoch : 500/3000\n",
            "train_loss : 0.0080882478505373\n",
            "-------------------------------------------------------------------------------------------------\n",
            "epoch : 600/3000\n",
            "train_loss : 0.008067401126027107\n",
            "-------------------------------------------------------------------------------------------------\n",
            "epoch : 700/3000\n",
            "train_loss : 0.008062878623604774\n",
            "-------------------------------------------------------------------------------------------------\n",
            "epoch : 800/3000\n",
            "train_loss : 0.008065273985266685\n",
            "-------------------------------------------------------------------------------------------------\n",
            "epoch : 900/3000\n",
            "train_loss : 0.008057711645960808\n",
            "-------------------------------------------------------------------------------------------------\n",
            "epoch : 1000/3000\n",
            "train_loss : 0.008052592165768147\n",
            "-------------------------------------------------------------------------------------------------\n",
            "epoch : 1100/3000\n",
            "train_loss : 0.008110230788588524\n",
            "-------------------------------------------------------------------------------------------------\n",
            "epoch : 1200/3000\n",
            "train_loss : 0.008047729730606079\n",
            "-------------------------------------------------------------------------------------------------\n",
            "epoch : 1300/3000\n",
            "train_loss : 0.008045568130910397\n",
            "-------------------------------------------------------------------------------------------------\n",
            "epoch : 1400/3000\n",
            "train_loss : 0.008043872192502022\n",
            "-------------------------------------------------------------------------------------------------\n",
            "epoch : 1500/3000\n",
            "train_loss : 0.00809287466108799\n",
            "-------------------------------------------------------------------------------------------------\n",
            "epoch : 1600/3000\n",
            "train_loss : 0.008039815351366997\n",
            "-------------------------------------------------------------------------------------------------\n",
            "epoch : 1700/3000\n",
            "train_loss : 0.008082068525254726\n",
            "-------------------------------------------------------------------------------------------------\n",
            "epoch : 1800/3000\n",
            "train_loss : 0.008036892861127853\n",
            "-------------------------------------------------------------------------------------------------\n",
            "epoch : 1900/3000\n",
            "train_loss : 0.008068867959082127\n",
            "-------------------------------------------------------------------------------------------------\n",
            "epoch : 2000/3000\n",
            "train_loss : 0.008038956671953201\n",
            "-------------------------------------------------------------------------------------------------\n",
            "epoch : 2100/3000\n",
            "train_loss : 0.008074464276432991\n",
            "-------------------------------------------------------------------------------------------------\n",
            "epoch : 2200/3000\n",
            "train_loss : 0.00803060457110405\n",
            "-------------------------------------------------------------------------------------------------\n",
            "epoch : 2300/3000\n",
            "train_loss : 0.0080277593806386\n",
            "-------------------------------------------------------------------------------------------------\n",
            "epoch : 2400/3000\n",
            "train_loss : 0.008026396855711937\n",
            "-------------------------------------------------------------------------------------------------\n",
            "epoch : 2500/3000\n",
            "train_loss : 0.008027142845094204\n",
            "-------------------------------------------------------------------------------------------------\n",
            "epoch : 2600/3000\n",
            "train_loss : 0.008033295162022114\n",
            "-------------------------------------------------------------------------------------------------\n",
            "epoch : 2700/3000\n",
            "train_loss : 0.00802261009812355\n",
            "-------------------------------------------------------------------------------------------------\n",
            "epoch : 2800/3000\n",
            "train_loss : 0.008022388443350792\n",
            "-------------------------------------------------------------------------------------------------\n",
            "epoch : 2900/3000\n",
            "train_loss : 0.008058188483119011\n",
            "-------------------------------------------------------------------------------------------------\n"
          ]
        }
      ]
    },
    {
      "cell_type": "code",
      "source": [
        "model, history_train_loss = fit(model, optimizer, criterion, 500, dataloader_train)"
      ],
      "metadata": {
        "colab": {
          "base_uri": "https://localhost:8080/"
        },
        "id": "TRBPbSj80Wq-",
        "outputId": "d6ee8a81-fafc-4c3b-d264-8d61a5722428"
      },
      "execution_count": 31,
      "outputs": [
        {
          "output_type": "stream",
          "name": "stderr",
          "text": [
            "/usr/local/lib/python3.10/dist-packages/torch/nn/modules/loss.py:128: UserWarning: Using a target size (torch.Size([1, 1, 40960])) that is different to the input size (torch.Size([1, 32, 40960])). This will likely lead to incorrect results due to broadcasting. Please ensure they have the same size.\n",
            "  return F.l1_loss(input, target, reduction=self.reduction)\n"
          ]
        },
        {
          "output_type": "stream",
          "name": "stdout",
          "text": [
            "epoch : 0/500\n",
            "train_loss : 0.0173836387693882\n",
            "-------------------------------------------------------------------------------------------------\n",
            "epoch : 100/500\n",
            "train_loss : 0.017367864027619362\n",
            "-------------------------------------------------------------------------------------------------\n",
            "epoch : 200/500\n",
            "train_loss : 0.017366807907819748\n",
            "-------------------------------------------------------------------------------------------------\n",
            "epoch : 300/500\n",
            "train_loss : 0.0173613503575325\n",
            "-------------------------------------------------------------------------------------------------\n",
            "epoch : 400/500\n",
            "train_loss : 0.017369385808706284\n",
            "-------------------------------------------------------------------------------------------------\n"
          ]
        }
      ]
    },
    {
      "cell_type": "code",
      "source": [
        "model, history_train_loss = fit(model, optimizer, criterion, epoch, dataloader_train)"
      ],
      "metadata": {
        "id": "dfdADOP74z5t",
        "colab": {
          "base_uri": "https://localhost:8080/",
          "height": 1000
        },
        "outputId": "b3668b82-3dc2-4821-ded6-a165e0ecf76a"
      },
      "execution_count": 30,
      "outputs": [
        {
          "output_type": "stream",
          "name": "stderr",
          "text": [
            "/usr/local/lib/python3.10/dist-packages/torch/nn/modules/loss.py:128: UserWarning: Using a target size (torch.Size([1, 1, 40960])) that is different to the input size (torch.Size([1, 32, 40960])). This will likely lead to incorrect results due to broadcasting. Please ensure they have the same size.\n",
            "  return F.l1_loss(input, target, reduction=self.reduction)\n"
          ]
        },
        {
          "output_type": "stream",
          "name": "stdout",
          "text": [
            "epoch : 0/3000\n",
            "train_loss : 0.13598385453224182\n",
            "-------------------------------------------------------------------------------------------------\n",
            "epoch : 100/3000\n",
            "train_loss : 0.08125601708889008\n",
            "-------------------------------------------------------------------------------------------------\n",
            "epoch : 200/3000\n",
            "train_loss : 0.053942203521728516\n",
            "-------------------------------------------------------------------------------------------------\n",
            "epoch : 300/3000\n",
            "train_loss : 0.038744378834962845\n",
            "-------------------------------------------------------------------------------------------------\n",
            "epoch : 400/3000\n",
            "train_loss : 0.026893669739365578\n",
            "-------------------------------------------------------------------------------------------------\n",
            "epoch : 500/3000\n",
            "train_loss : 0.019162314012646675\n",
            "-------------------------------------------------------------------------------------------------\n",
            "epoch : 600/3000\n",
            "train_loss : 0.01796131022274494\n",
            "-------------------------------------------------------------------------------------------------\n",
            "epoch : 700/3000\n",
            "train_loss : 0.017742808908224106\n",
            "-------------------------------------------------------------------------------------------------\n",
            "epoch : 800/3000\n",
            "train_loss : 0.01766461320221424\n",
            "-------------------------------------------------------------------------------------------------\n",
            "epoch : 900/3000\n",
            "train_loss : 0.017613714560866356\n",
            "-------------------------------------------------------------------------------------------------\n",
            "epoch : 1000/3000\n",
            "train_loss : 0.01758279651403427\n",
            "-------------------------------------------------------------------------------------------------\n",
            "epoch : 1100/3000\n",
            "train_loss : 0.017545057460665703\n",
            "-------------------------------------------------------------------------------------------------\n",
            "epoch : 1200/3000\n",
            "train_loss : 0.017520125955343246\n",
            "-------------------------------------------------------------------------------------------------\n",
            "epoch : 1300/3000\n",
            "train_loss : 0.017501119524240494\n",
            "-------------------------------------------------------------------------------------------------\n",
            "epoch : 1400/3000\n",
            "train_loss : 0.017486566677689552\n",
            "-------------------------------------------------------------------------------------------------\n",
            "epoch : 1500/3000\n",
            "train_loss : 0.017470210790634155\n",
            "-------------------------------------------------------------------------------------------------\n",
            "epoch : 1600/3000\n",
            "train_loss : 0.017455806955695152\n",
            "-------------------------------------------------------------------------------------------------\n",
            "epoch : 1700/3000\n",
            "train_loss : 0.017445560544729233\n",
            "-------------------------------------------------------------------------------------------------\n",
            "epoch : 1800/3000\n",
            "train_loss : 0.01743726059794426\n",
            "-------------------------------------------------------------------------------------------------\n",
            "epoch : 1900/3000\n",
            "train_loss : 0.017432386055588722\n",
            "-------------------------------------------------------------------------------------------------\n",
            "epoch : 2000/3000\n",
            "train_loss : 0.017421748489141464\n",
            "-------------------------------------------------------------------------------------------------\n",
            "epoch : 2100/3000\n",
            "train_loss : 0.017413664609193802\n",
            "-------------------------------------------------------------------------------------------------\n",
            "epoch : 2200/3000\n",
            "train_loss : 0.01740913651883602\n",
            "-------------------------------------------------------------------------------------------------\n",
            "epoch : 2300/3000\n",
            "train_loss : 0.017401671037077904\n",
            "-------------------------------------------------------------------------------------------------\n",
            "epoch : 2400/3000\n",
            "train_loss : 0.01739727519452572\n",
            "-------------------------------------------------------------------------------------------------\n",
            "epoch : 2500/3000\n",
            "train_loss : 0.017400603741407394\n",
            "-------------------------------------------------------------------------------------------------\n",
            "epoch : 2600/3000\n",
            "train_loss : 0.017394576221704483\n",
            "-------------------------------------------------------------------------------------------------\n",
            "epoch : 2700/3000\n",
            "train_loss : 0.01738876663148403\n",
            "-------------------------------------------------------------------------------------------------\n",
            "epoch : 2800/3000\n",
            "train_loss : 0.017379818484187126\n",
            "-------------------------------------------------------------------------------------------------\n",
            "epoch : 2900/3000\n",
            "train_loss : 0.017389779910445213\n",
            "-------------------------------------------------------------------------------------------------\n"
          ]
        },
        {
          "output_type": "error",
          "ename": "ValueError",
          "evalue": "not enough values to unpack (expected 3, got 2)",
          "traceback": [
            "\u001b[0;31m---------------------------------------------------------------------------\u001b[0m",
            "\u001b[0;31mValueError\u001b[0m                                Traceback (most recent call last)",
            "\u001b[0;32m<ipython-input-30-ea0079a028d6>\u001b[0m in \u001b[0;36m<cell line: 1>\u001b[0;34m()\u001b[0m\n\u001b[0;32m----> 1\u001b[0;31m \u001b[0mmodel\u001b[0m\u001b[0;34m,\u001b[0m \u001b[0mhistory_train_loss\u001b[0m\u001b[0;34m,\u001b[0m \u001b[0mhistory_test_loss\u001b[0m \u001b[0;34m=\u001b[0m \u001b[0mfit\u001b[0m\u001b[0;34m(\u001b[0m\u001b[0mmodel\u001b[0m\u001b[0;34m,\u001b[0m \u001b[0moptimizer\u001b[0m\u001b[0;34m,\u001b[0m \u001b[0mcriterion\u001b[0m\u001b[0;34m,\u001b[0m \u001b[0mepoch\u001b[0m\u001b[0;34m,\u001b[0m \u001b[0mdataloader_train\u001b[0m\u001b[0;34m)\u001b[0m\u001b[0;34m\u001b[0m\u001b[0;34m\u001b[0m\u001b[0m\n\u001b[0m",
            "\u001b[0;31mValueError\u001b[0m: not enough values to unpack (expected 3, got 2)"
          ]
        }
      ]
    },
    {
      "cell_type": "markdown",
      "source": [
        "Utilisez la méthode `forward` pour prédire le résultat du modèle à partir de `signal_noise_expand`"
      ],
      "metadata": {
        "id": "UIQnZlV-ekmx"
      }
    },
    {
      "cell_type": "code",
      "source": [
        "torch.from_numpy(np.expand_dims(np.expand_dims(signal_noise[:40960], axis=0), axis=1)).shape"
      ],
      "metadata": {
        "colab": {
          "base_uri": "https://localhost:8080/"
        },
        "id": "HIN7FIl226Yi",
        "outputId": "9e858783-476f-47fb-cff8-ffcd900c835f"
      },
      "execution_count": 39,
      "outputs": [
        {
          "output_type": "execute_result",
          "data": {
            "text/plain": [
              "torch.Size([1, 1, 40960])"
            ]
          },
          "metadata": {},
          "execution_count": 39
        }
      ]
    },
    {
      "cell_type": "code",
      "execution_count": 60,
      "metadata": {
        "id": "r3isbDOv6wTq"
      },
      "outputs": [],
      "source": [
        "signal_pred = model.forward(\n",
        "    torch.from_numpy(np.expand_dims(np.expand_dims(signal_noise[:40960], axis=0), axis=1)\n",
        "    ))"
      ]
    },
    {
      "cell_type": "markdown",
      "source": [
        "Utilisez la fonction `write` du package `soundfile` pour enregistrer `signal_noise_expand`, `signal_exapnd` et `signal_pred` avec pour nom respectif `reel_1.wav`, `pred_1.wav` et `noise_1.wav`."
      ],
      "metadata": {
        "id": "V7O-gH2SeuoN"
      }
    },
    {
      "cell_type": "code",
      "source": [
        "signal.shape"
      ],
      "metadata": {
        "colab": {
          "base_uri": "https://localhost:8080/"
        },
        "id": "dFO8VX6C2OHF",
        "outputId": "25454c24-a768-465f-801c-aab57cc110d8"
      },
      "execution_count": 36,
      "outputs": [
        {
          "output_type": "execute_result",
          "data": {
            "text/plain": [
              "(220500,)"
            ]
          },
          "metadata": {},
          "execution_count": 36
        }
      ]
    },
    {
      "cell_type": "code",
      "source": [
        "signal_pred.shape"
      ],
      "metadata": {
        "colab": {
          "base_uri": "https://localhost:8080/"
        },
        "id": "sM9XyNSv2Pvh",
        "outputId": "64aed358-4a5d-427b-cae3-9a868f5fc118"
      },
      "execution_count": 61,
      "outputs": [
        {
          "output_type": "execute_result",
          "data": {
            "text/plain": [
              "torch.Size([1, 1, 40960])"
            ]
          },
          "metadata": {},
          "execution_count": 61
        }
      ]
    },
    {
      "cell_type": "code",
      "source": [
        "signal_noise.shape"
      ],
      "metadata": {
        "colab": {
          "base_uri": "https://localhost:8080/"
        },
        "id": "vPV_B5f62RVo",
        "outputId": "dfca2c4f-3ac7-4ad4-a7bb-38edeeb307b8"
      },
      "execution_count": 38,
      "outputs": [
        {
          "output_type": "execute_result",
          "data": {
            "text/plain": [
              "(220500,)"
            ]
          },
          "metadata": {},
          "execution_count": 38
        }
      ]
    },
    {
      "cell_type": "code",
      "execution_count": 62,
      "metadata": {
        "id": "Q-sVC2di6hKR"
      },
      "outputs": [],
      "source": [
        "sf.write(\"reel_1.wav\",signal, sr)\n",
        "sf.write(\"pred_1.wav\",np.squeeze(signal_pred.detach().numpy()),sr)\n",
        "sf.write(\"noise_1.wav\",signal_noise,sr)"
      ]
    },
    {
      "cell_type": "code",
      "source": [
        "librosa.display.waveshow(signal_noise[0:40000], label=\"signal noise\")\n",
        "#librosa.display.waveshow(np.squeeze(signal_pred.detach().numpy()), label='signal pred')\n",
        "librosa.display.waveshow(signal[0:40000], label='signal')\n",
        "plt.legend(loc='upper left')\n",
        "plt.legend()\n",
        "plt.tight_layout()\n",
        "plt.show()"
      ],
      "metadata": {
        "colab": {
          "base_uri": "https://localhost:8080/",
          "height": 487
        },
        "id": "yg356_Rc7sF5",
        "outputId": "edb2f6d6-ad8d-4a44-b219-c0a587af3d64"
      },
      "execution_count": 67,
      "outputs": [
        {
          "output_type": "display_data",
          "data": {
            "text/plain": [
              "<Figure size 640x480 with 1 Axes>"
            ],
            "image/png": "[encoded data removed]"
          },
          "metadata": {}
        }
      ]
    },
    {
      "cell_type": "markdown",
      "source": [
        "Ecoutez le résultat afin de voir s'il est satisfaiant."
      ],
      "metadata": {
        "id": "Z7qfo6B4fCob"
      }
    },
    {
      "cell_type": "markdown",
      "source": [
        "## Modèle finale"
      ],
      "metadata": {
        "id": "QWapJh3pgPAa"
      }
    },
    {
      "cell_type": "markdown",
      "source": [
        "Maintenant que vous avez construit votre baseline L'objectif de ce TP est de complexifier le modèle jusqu'à ce qu'il soit capable de débruiter parfaitement le son bruité."
      ],
      "metadata": {
        "id": "SE2qYk6lIt1i"
      }
    },
    {
      "cell_type": "code",
      "source": [],
      "metadata": {
        "id": "f8igulmrDYZw"
      },
      "execution_count": null,
      "outputs": []
    },
    {
      "cell_type": "code",
      "source": [],
      "metadata": {
        "id": "PvILULXTDYcM"
      },
      "execution_count": null,
      "outputs": []
    },
    {
      "cell_type": "code",
      "source": [
        "class UNet(torch.nn.Module):\n",
        "    def __init__(self, in_channels=1, out_channels=1):\n",
        "        super(UNet, self).__init__()\n",
        "\n",
        "        # Encoder\n",
        "        self.encoder1 = self.conv_block(in_channels, 16)\n",
        "        self.encoder2 = self.conv_block(16, 32)\n",
        "\n",
        "        self.pool = torch.nn.MaxPool1d(2, 2)\n",
        "\n",
        "        # Bottleneck\n",
        "        self.bottleneck = self.conv_block(32, 64)\n",
        "\n",
        "        # Decoder\n",
        "        self.upconv2 = torch.nn.ConvTranspose1d(64, 32, kernel_size=2, stride=2)\n",
        "        self.decoder2 = self.conv_block(64, 32)\n",
        "\n",
        "        self.upconv1 = torch.nn.ConvTranspose1d(32, 16, kernel_size=2, stride=2)\n",
        "        self.decoder1 = self.conv_block(32, 16)\n",
        "\n",
        "        # Final layer\n",
        "        self.final_layer = torch.nn.Conv1d(16, 1, kernel_size=3,padding=\"same\")\n",
        "\n",
        "    def conv_block(self, in_channels, out_channels):\n",
        "        return torch.nn.Sequential(\n",
        "            torch.nn.Conv1d(in_channels, out_channels, kernel_size=3, padding=\"same\"),\n",
        "            torch.nn.BatchNorm1d(out_channels),\n",
        "            torch.nn.ReLU(inplace=True),\n",
        "        )\n",
        "\n",
        "    def forward(self, x):\n",
        "        # Encoder\n",
        "        enc1 = self.encoder1(x)\n",
        "        pool1 = self.pool(enc1)\n",
        "\n",
        "        enc2 = self.encoder2(pool1)\n",
        "        pool2 = self.pool(enc2)\n",
        "\n",
        "        # Bottleneck\n",
        "        bottleneck = self.bottleneck(pool2)\n",
        "\n",
        "        # Decoder\n",
        "        up2 = self.upconv2(bottleneck)\n",
        "        cat2 = torch.cat((enc2, up2), dim=1)\n",
        "        dec2 = self.decoder2(cat2)\n",
        "\n",
        "        up1 = self.upconv1(dec2)\n",
        "        cat1 = torch.cat((enc1, up1), dim=1)\n",
        "        dec1 = self.decoder1(cat1)\n",
        "\n",
        "        # Final layer\n",
        "        output = self.final_layer(dec1)\n",
        "\n",
        "        return output"
      ],
      "metadata": {
        "id": "dOFkM4axDYe_"
      },
      "execution_count": null,
      "outputs": []
    },
    {
      "cell_type": "code",
      "source": [
        "model = UNet()\n",
        "criterion = torch.nn.L1Loss()\n",
        "optimizer = torch.optim.Adam(model.parameters(), lr=0.001)\n",
        "model, history_train_loss = fit(model, optimizer, criterion, epoch, dataloader_train)"
      ],
      "metadata": {
        "colab": {
          "base_uri": "https://localhost:8080/"
        },
        "id": "_nUnI2gPDZ2H",
        "outputId": "9dbc7036-ff56-41c3-f225-39c391cc0f74"
      },
      "execution_count": 68,
      "outputs": [
        {
          "output_type": "stream",
          "name": "stdout",
          "text": [
            "epoch : 0/3000\n",
            "train_loss : 0.10351705551147461\n",
            "-------------------------------------------------------------------------------------------------\n",
            "epoch : 100/3000\n",
            "train_loss : 0.008625422604382038\n",
            "-------------------------------------------------------------------------------------------------\n",
            "epoch : 200/3000\n",
            "train_loss : 0.007535126991569996\n",
            "-------------------------------------------------------------------------------------------------\n",
            "epoch : 300/3000\n",
            "train_loss : 0.0071731796488165855\n",
            "-------------------------------------------------------------------------------------------------\n",
            "epoch : 400/3000\n",
            "train_loss : 0.007062332239001989\n",
            "-------------------------------------------------------------------------------------------------\n",
            "epoch : 500/3000\n",
            "train_loss : 0.006987986620515585\n",
            "-------------------------------------------------------------------------------------------------\n",
            "epoch : 600/3000\n",
            "train_loss : 0.007022089324891567\n",
            "-------------------------------------------------------------------------------------------------\n",
            "epoch : 700/3000\n",
            "train_loss : 0.0069152312353253365\n",
            "-------------------------------------------------------------------------------------------------\n",
            "epoch : 800/3000\n",
            "train_loss : 0.006942725274711847\n",
            "-------------------------------------------------------------------------------------------------\n",
            "epoch : 900/3000\n",
            "train_loss : 0.006852587219327688\n",
            "-------------------------------------------------------------------------------------------------\n",
            "epoch : 1000/3000\n",
            "train_loss : 0.006905338726937771\n",
            "-------------------------------------------------------------------------------------------------\n",
            "epoch : 1100/3000\n",
            "train_loss : 0.006840059999376535\n",
            "-------------------------------------------------------------------------------------------------\n",
            "epoch : 1200/3000\n",
            "train_loss : 0.0067979441955685616\n",
            "-------------------------------------------------------------------------------------------------\n",
            "epoch : 1300/3000\n",
            "train_loss : 0.006768763065338135\n",
            "-------------------------------------------------------------------------------------------------\n",
            "epoch : 1400/3000\n",
            "train_loss : 0.006750667002052069\n",
            "-------------------------------------------------------------------------------------------------\n",
            "epoch : 1500/3000\n",
            "train_loss : 0.006778717041015625\n",
            "-------------------------------------------------------------------------------------------------\n",
            "epoch : 1600/3000\n",
            "train_loss : 0.006821007467806339\n",
            "-------------------------------------------------------------------------------------------------\n",
            "epoch : 1700/3000\n",
            "train_loss : 0.006798342801630497\n",
            "-------------------------------------------------------------------------------------------------\n",
            "epoch : 1800/3000\n",
            "train_loss : 0.006797461304813623\n",
            "-------------------------------------------------------------------------------------------------\n",
            "epoch : 1900/3000\n",
            "train_loss : 0.006721087731420994\n",
            "-------------------------------------------------------------------------------------------------\n",
            "epoch : 2000/3000\n",
            "train_loss : 0.0067253573797643185\n",
            "-------------------------------------------------------------------------------------------------\n",
            "epoch : 2100/3000\n",
            "train_loss : 0.006712819449603558\n",
            "-------------------------------------------------------------------------------------------------\n",
            "epoch : 2200/3000\n",
            "train_loss : 0.0067112622782588005\n",
            "-------------------------------------------------------------------------------------------------\n",
            "epoch : 2300/3000\n",
            "train_loss : 0.006724861916154623\n",
            "-------------------------------------------------------------------------------------------------\n",
            "epoch : 2400/3000\n",
            "train_loss : 0.0067094312980771065\n",
            "-------------------------------------------------------------------------------------------------\n",
            "epoch : 2500/3000\n",
            "train_loss : 0.006702152080833912\n",
            "-------------------------------------------------------------------------------------------------\n",
            "epoch : 2600/3000\n",
            "train_loss : 0.0067103952169418335\n",
            "-------------------------------------------------------------------------------------------------\n",
            "epoch : 2700/3000\n",
            "train_loss : 0.006695683114230633\n",
            "-------------------------------------------------------------------------------------------------\n",
            "epoch : 2800/3000\n",
            "train_loss : 0.006719200871884823\n",
            "-------------------------------------------------------------------------------------------------\n",
            "epoch : 2900/3000\n",
            "train_loss : 0.006692368537187576\n",
            "-------------------------------------------------------------------------------------------------\n"
          ]
        }
      ]
    },
    {
      "cell_type": "code",
      "source": [],
      "metadata": {
        "id": "ohitif7yD1ML"
      },
      "execution_count": null,
      "outputs": []
    }
  ],
  "metadata": {
    "accelerator": "GPU",
    "colab": {
      "gpuType": "T4",
      "provenance": []
    },
    "kernelspec": {
      "display_name": "Python 3",
      "name": "python3"
    },
    "language_info": {
      "codemirror_mode": {
        "name": "ipython",
        "version": 3
      },
      "file_extension": ".py",
      "mimetype": "text/x-python",
      "name": "python",
      "nbconvert_exporter": "python",
      "pygments_lexer": "ipython3",
      "version": "3.11.0"
    }
  },
  "nbformat": 4,
  "nbformat_minor": 0
}